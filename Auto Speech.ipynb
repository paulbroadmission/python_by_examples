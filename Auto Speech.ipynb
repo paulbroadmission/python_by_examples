{
  "cells": [
    {
      "cell_type": "markdown",
      "metadata": {
        "id": "-dj5ELiLqczE"
      },
      "source": [
        "# Python Examples : Auto Speech by Paul Chao #"
      ]
    },
    {
      "cell_type": "code",
      "execution_count": null,
      "metadata": {
        "id": "fnFziLAsqczH",
        "outputId": "ecf0d0c8-6326-4a95-b6c2-fe0d8b1b8cbf"
      },
      "outputs": [
        {
          "name": "stdout",
          "output_type": "stream",
          "text": [
            "Requirement already satisfied: gTTS in c:\\users\\user\\anaconda3\\lib\\site-packages\n",
            "Requirement already satisfied: requests in c:\\users\\user\\anaconda3\\lib\\site-packages (from gTTS)\n",
            "Requirement already satisfied: six in c:\\users\\user\\anaconda3\\lib\\site-packages (from gTTS)\n",
            "Requirement already satisfied: gtts-token in c:\\users\\user\\anaconda3\\lib\\site-packages (from gTTS)\n"
          ]
        }
      ],
      "source": [
        "!pip install gTTS"
      ]
    },
    {
      "cell_type": "code",
      "execution_count": null,
      "metadata": {
        "id": "07U1yTpQqczI"
      },
      "outputs": [],
      "source": [
        "from gtts import gTTS\n",
        "tts=gTTS(text='廣宣狂新聞', lang='zh')\n",
        "tts.save(\"broadmission_madnews.mp3\")"
      ]
    },
    {
      "cell_type": "code",
      "execution_count": null,
      "metadata": {
        "id": "CyqE6I6lqczJ",
        "outputId": "bedf5973-991f-4871-c636-2066ca936172"
      },
      "outputs": [
        {
          "data": {
            "text/plain": [
              "True"
            ]
          },
          "execution_count": 3,
          "metadata": {},
          "output_type": "execute_result"
        }
      ],
      "source": [
        "import webbrowser\n",
        "webbrowser.open(\"broadmission_madnews.mp3\")"
      ]
    },
    {
      "cell_type": "code",
      "execution_count": null,
      "metadata": {
        "id": "ngwQCZHaqczJ",
        "outputId": "a705d0c1-79ea-4c29-c118-817a61c4bf28"
      },
      "outputs": [
        {
          "name": "stdout",
          "output_type": "stream",
          "text": [
            " 傅達仁上書蔡英文告別信 兒挺父安樂死 醫界不滿社福把持長照？專家：整合才是王道 獨家／長照2.0總檢討 ABC重新定位 在百貨公司四處縱火 21歲男子判刑3年6月 MOF甜點師來台客座 競賽巧思融入飯店午茶 書廊免費閱讀 晚間還能聽歌看戲 跳海戲沒安全措施 孟耿如譙劇組玩命 港建制泛民過招 掀議會修例戰 中共19大 港媒：陸官員指薄熙來等人陰謀奪權\n"
          ]
        }
      ],
      "source": [
        "import webbrowser\n",
        "import requests\n",
        "from bs4 import BeautifulSoup\n",
        "from gtts import gTTS\n",
        "\n",
        "def get_hotline_udnnews(url):\n",
        "    resp = requests.get(url)\n",
        "    \n",
        "    if resp.status_code is 200:\n",
        "        resp.encoding = 'utf-8'\n",
        "        soup = BeautifulSoup(resp.text, 'html.parser')\n",
        "        scope1 = soup.select(\"#tab1\") #選取第一區段\n",
        "        scope2 = scope1[0].select(\".taba\")\n",
        "        \n",
        "        hot_lines = []\n",
        "        \n",
        "        for line in scope2:\n",
        "            hot_lines.append(line.text)\n",
        "            \n",
        "        return hot_lines\n",
        "\n",
        "def translate_text_to_speech(text):\n",
        "    if text is not None:\n",
        "        tts=gTTS(text, lang='zh')\n",
        "        print(text)\n",
        "        tts.save(\"news.mp3\")\n",
        "\n",
        "if __name__ == '__main__':\n",
        "    udnnews_lines = get_hotline_udnnews(\"https://udn.com/news/index\")\n",
        "    i = 0\n",
        "    udnnews_dicts = {}\n",
        "    while i < len(udnnews_lines):\n",
        "        udnnews_dicts['time'] = udnnews_lines[i][:5]\n",
        "        udnnews_dicts['title'] = udnnews_lines[i][5:]\n",
        "        #print(\"Time[{}]: {}\".format(udnnews_dicts['time'], udnnews_dicts['title']))\n",
        "        i += 1\n",
        "    \n",
        "    all_lines = \"\"\n",
        "    for line in udnnews_lines:\n",
        "        all_lines += \" \"+str(line[5:])\n",
        "    #print(all_lines)\n",
        "    \n",
        "    translate_text_to_speech(str(all_lines))\n",
        "    webbrowser.open(\"news.mp3\")"
      ]
    },
    {
      "cell_type": "markdown",
      "source": [
        "## Siri Light version: 微型版 Siri"
      ],
      "metadata": {
        "id": "viAtA7InqfHp"
      }
    },
    {
      "cell_type": "code",
      "source": [
        "!pip install gTTS"
      ],
      "metadata": {
        "id": "Mn72G0jbrrHe",
        "outputId": "2685397b-192d-4f03-9672-4772de8114bd",
        "colab": {
          "base_uri": "https://localhost:8080/"
        }
      },
      "execution_count": 5,
      "outputs": [
        {
          "output_type": "stream",
          "name": "stdout",
          "text": [
            "Installing collected packages: gTTS\n",
            "Successfully installed gTTS-2.2.4\n"
          ]
        }
      ]
    },
    {
      "cell_type": "code",
      "execution_count": 6,
      "metadata": {
        "collapsed": true,
        "id": "lbmN1MVAqczK",
        "outputId": "5bedb7b4-e687-49f6-ae31-77713d78a38c",
        "colab": {
          "base_uri": "https://localhost:8080/",
          "height": 93
        }
      },
      "outputs": [
        {
          "name": "stdout",
          "output_type": "stream",
          "text": [
            "請輸入你要問機器人的話:你叫什麼名字\n"
          ]
        },
        {
          "output_type": "execute_result",
          "data": {
            "text/plain": [
              "<IPython.lib.display.Audio object>"
            ],
            "text/html": [
              "\n",
              "                <audio controls=\"controls\" autoplay=\"autoplay\">\n",
              "                    <source src=\"data:audio/mpeg;base64,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\" type=\"audio/mpeg\" />\n",
              "                    Your browser does not support the audio element.\n",
              "                </audio>\n",
              "              "
            ]
          },
          "metadata": {},
          "execution_count": 6
        }
      ],
      "source": [
        "from gtts import gTTS\n",
        "from IPython.display import Audio\n",
        "\n",
        "siri = {\"你叫什麼名字\":\"我叫Siri 很高興認識你\", \"你好\":\"我也很好, 那你呢？\", \"哈囉\":\"您好喔\", \"請問\":\"有什麼問題我能夠幫助您嗎?\"}\n",
        "a = input(\"請輸入你要問機器人的話:\")\n",
        "siri_answer = siri.get(a, \"對不起，我不太明白, 等以後我知識多一點了再回答你\")\n",
        "\n",
        "tts=gTTS(text=siri_answer, lang='zh')\n",
        "tts.save(\"broadmission_siri.mp3\")\n",
        "Audio(\"broadmission_siri.mp3\", autoplay=True)"
      ]
    }
  ],
  "metadata": {
    "kernelspec": {
      "display_name": "Python 3",
      "language": "python",
      "name": "python3"
    },
    "language_info": {
      "codemirror_mode": {
        "name": "ipython",
        "version": 3
      },
      "file_extension": ".py",
      "mimetype": "text/x-python",
      "name": "python",
      "nbconvert_exporter": "python",
      "pygments_lexer": "ipython3",
      "version": "3.6.2"
    },
    "colab": {
      "name": "Auto Speech.ipynb",
      "provenance": []
    }
  },
  "nbformat": 4,
  "nbformat_minor": 0
}